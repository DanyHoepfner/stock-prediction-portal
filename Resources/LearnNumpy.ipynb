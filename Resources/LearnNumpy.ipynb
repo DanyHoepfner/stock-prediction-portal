{
 "cells": [
  {
   "cell_type": "code",
   "execution_count": 1,
   "id": "0ab7b728-0846-453e-bc5d-cf122f095267",
   "metadata": {},
   "outputs": [],
   "source": [
    "import numpy as np"
   ]
  },
  {
   "cell_type": "code",
   "execution_count": 2,
   "id": "5b9133a3-18b6-43da-895b-ce0a0f42ab73",
   "metadata": {},
   "outputs": [
    {
     "data": {
      "text/plain": [
       "'2.3.1'"
      ]
     },
     "execution_count": 2,
     "metadata": {},
     "output_type": "execute_result"
    }
   ],
   "source": [
    "np.__version__"
   ]
  },
  {
   "cell_type": "markdown",
   "id": "ba2a8a0b-e873-4c9e-a968-9998d68af0af",
   "metadata": {},
   "source": [
    "## Create and Read"
   ]
  },
  {
   "cell_type": "markdown",
   "id": "012540f4-877f-4122-a4bf-712c7506ae8a",
   "metadata": {},
   "source": [
    "#### 1-D Array"
   ]
  },
  {
   "cell_type": "code",
   "execution_count": 3,
   "id": "aef999af-0930-4cf7-aba0-24f7cd0e9918",
   "metadata": {},
   "outputs": [
    {
     "data": {
      "text/plain": [
       "array([1, 2, 3, 4, 5])"
      ]
     },
     "execution_count": 3,
     "metadata": {},
     "output_type": "execute_result"
    }
   ],
   "source": [
    "arr1 = np.array([1,2,3,4,5])\n",
    "arr1"
   ]
  },
  {
   "cell_type": "code",
   "execution_count": 4,
   "id": "787d9f47-6591-4af5-8c22-a46b2006eb2f",
   "metadata": {},
   "outputs": [
    {
     "data": {
      "text/plain": [
       "numpy.ndarray"
      ]
     },
     "execution_count": 4,
     "metadata": {},
     "output_type": "execute_result"
    }
   ],
   "source": [
    "type(arr1)"
   ]
  },
  {
   "cell_type": "code",
   "execution_count": 5,
   "id": "554ef9f1-b5f6-4aa4-bd23-bd04c17ddac5",
   "metadata": {},
   "outputs": [
    {
     "data": {
      "text/plain": [
       "(5,)"
      ]
     },
     "execution_count": 5,
     "metadata": {},
     "output_type": "execute_result"
    }
   ],
   "source": [
    "arr1.shape"
   ]
  },
  {
   "cell_type": "code",
   "execution_count": 6,
   "id": "e22f2958-f31c-40c1-bb84-d0260f0282c3",
   "metadata": {},
   "outputs": [
    {
     "data": {
      "text/plain": [
       "dtype('int64')"
      ]
     },
     "execution_count": 6,
     "metadata": {},
     "output_type": "execute_result"
    }
   ],
   "source": [
    "arr1.dtype"
   ]
  },
  {
   "cell_type": "code",
   "execution_count": 7,
   "id": "39eda29d-869b-4e50-8fbb-d806ee2b6f3d",
   "metadata": {},
   "outputs": [
    {
     "data": {
      "text/plain": [
       "1"
      ]
     },
     "execution_count": 7,
     "metadata": {},
     "output_type": "execute_result"
    }
   ],
   "source": [
    "arr1.ndim"
   ]
  },
  {
   "cell_type": "code",
   "execution_count": 8,
   "id": "72f20785-42ac-4f8a-9abc-fdf87bb7404a",
   "metadata": {},
   "outputs": [
    {
     "data": {
      "text/plain": [
       "5"
      ]
     },
     "execution_count": 8,
     "metadata": {},
     "output_type": "execute_result"
    }
   ],
   "source": [
    "arr1.size"
   ]
  },
  {
   "cell_type": "markdown",
   "id": "80dc0e81-9841-4349-8c96-b0e8ed8ebdf8",
   "metadata": {},
   "source": [
    "#### 2-D Array"
   ]
  },
  {
   "cell_type": "code",
   "execution_count": 9,
   "id": "2c58a89e-7c38-43ff-bb73-de2db410d72b",
   "metadata": {},
   "outputs": [],
   "source": [
    "arr2 = np.array([[1,2,3], [4,5,6]])"
   ]
  },
  {
   "cell_type": "code",
   "execution_count": 10,
   "id": "2931f054-91f4-4026-b784-19dfc0e4f467",
   "metadata": {},
   "outputs": [
    {
     "data": {
      "text/plain": [
       "array([[1, 2, 3],\n",
       "       [4, 5, 6]])"
      ]
     },
     "execution_count": 10,
     "metadata": {},
     "output_type": "execute_result"
    }
   ],
   "source": [
    "arr2"
   ]
  },
  {
   "cell_type": "code",
   "execution_count": 11,
   "id": "1b5e4191-b418-49cd-9b5c-447a17e8557b",
   "metadata": {},
   "outputs": [
    {
     "data": {
      "text/plain": [
       "2"
      ]
     },
     "execution_count": 11,
     "metadata": {},
     "output_type": "execute_result"
    }
   ],
   "source": [
    "arr2.ndim"
   ]
  },
  {
   "cell_type": "code",
   "execution_count": 12,
   "id": "5b7da1c5-693d-4128-8f10-a26c33eace4d",
   "metadata": {},
   "outputs": [
    {
     "data": {
      "text/plain": [
       "(2, 3)"
      ]
     },
     "execution_count": 12,
     "metadata": {},
     "output_type": "execute_result"
    }
   ],
   "source": [
    "arr2.shape # (row, col)"
   ]
  },
  {
   "cell_type": "code",
   "execution_count": 13,
   "id": "40c35727-5f4f-4875-b282-ac53a34c8b8c",
   "metadata": {},
   "outputs": [
    {
     "data": {
      "text/plain": [
       "dtype('int64')"
      ]
     },
     "execution_count": 13,
     "metadata": {},
     "output_type": "execute_result"
    }
   ],
   "source": [
    "arr2.dtype"
   ]
  },
  {
   "cell_type": "code",
   "execution_count": 14,
   "id": "fdd4b223-cbb3-409b-a32b-ef57c00a8e5d",
   "metadata": {},
   "outputs": [
    {
     "data": {
      "text/plain": [
       "6"
      ]
     },
     "execution_count": 14,
     "metadata": {},
     "output_type": "execute_result"
    }
   ],
   "source": [
    "arr2.size"
   ]
  },
  {
   "cell_type": "markdown",
   "id": "a5af94eb-b975-4118-904f-691727a09171",
   "metadata": {},
   "source": [
    "#### 3-D Array"
   ]
  },
  {
   "cell_type": "code",
   "execution_count": 15,
   "id": "30cb5a63-d4fc-44a6-943a-6e14f665a5b8",
   "metadata": {},
   "outputs": [
    {
     "data": {
      "text/plain": [
       "array([[[1, 2],\n",
       "        [3, 4]],\n",
       "\n",
       "       [[5, 6],\n",
       "        [7, 8]]])"
      ]
     },
     "execution_count": 15,
     "metadata": {},
     "output_type": "execute_result"
    }
   ],
   "source": [
    "arr3 = np.array([[[1,2], [3,4]], [[5,6], [7,8]]])\n",
    "arr3"
   ]
  },
  {
   "cell_type": "code",
   "execution_count": 16,
   "id": "8182c180-ce6f-4945-bfc2-7eec71e99372",
   "metadata": {},
   "outputs": [
    {
     "data": {
      "text/plain": [
       "(2, 2, 2)"
      ]
     },
     "execution_count": 16,
     "metadata": {},
     "output_type": "execute_result"
    }
   ],
   "source": [
    "arr3.shape"
   ]
  },
  {
   "cell_type": "code",
   "execution_count": 17,
   "id": "81cd43d1-9aba-44db-bc5e-618a9275e75b",
   "metadata": {},
   "outputs": [
    {
     "data": {
      "text/plain": [
       "array([[[1, 2],\n",
       "        [3, 4]],\n",
       "\n",
       "       [[5, 6],\n",
       "        [7, 8]]])"
      ]
     },
     "execution_count": 17,
     "metadata": {},
     "output_type": "execute_result"
    }
   ],
   "source": [
    "arr3"
   ]
  },
  {
   "cell_type": "code",
   "execution_count": 18,
   "id": "b9045864-5873-4baa-a860-bb9cc6fff1ce",
   "metadata": {},
   "outputs": [
    {
     "data": {
      "text/plain": [
       "8"
      ]
     },
     "execution_count": 18,
     "metadata": {},
     "output_type": "execute_result"
    }
   ],
   "source": [
    "arr3.size"
   ]
  },
  {
   "cell_type": "code",
   "execution_count": 19,
   "id": "fa5b8201-d595-45f3-ac07-669c55cf9b77",
   "metadata": {},
   "outputs": [
    {
     "data": {
      "text/plain": [
       "3"
      ]
     },
     "execution_count": 19,
     "metadata": {},
     "output_type": "execute_result"
    }
   ],
   "source": [
    "arr3.ndim"
   ]
  },
  {
   "cell_type": "markdown",
   "id": "495141a7-674b-40f6-a309-19f1ec697bee",
   "metadata": {},
   "source": [
    "#### Create random array"
   ]
  },
  {
   "cell_type": "code",
   "execution_count": 20,
   "id": "6fe9d6a6-a1aa-4d96-9068-6e1687bf10fe",
   "metadata": {},
   "outputs": [
    {
     "data": {
      "text/plain": [
       "array([[[71.95225772, 75.00538089, 44.57735312],\n",
       "        [24.14414751, 11.9872537 ,  9.55592066]],\n",
       "\n",
       "       [[74.43395686, 52.25108903, 58.96480581],\n",
       "        [67.00037878, 63.81727488, 23.34658892]],\n",
       "\n",
       "       [[52.54528177, 55.92455927, 13.52524858],\n",
       "        [17.37449755, 48.48065282, 10.16155908]]])"
      ]
     },
     "execution_count": 20,
     "metadata": {},
     "output_type": "execute_result"
    }
   ],
   "source": [
    "randomArr = np.random.rand(3, 2, 3)*100\n",
    "randomArr"
   ]
  },
  {
   "cell_type": "code",
   "execution_count": 21,
   "id": "caeadc89-5917-4731-a558-a854d5cf4a6d",
   "metadata": {},
   "outputs": [
    {
     "data": {
      "text/plain": [
       "dtype('float64')"
      ]
     },
     "execution_count": 21,
     "metadata": {},
     "output_type": "execute_result"
    }
   ],
   "source": [
    "randomArr.dtype"
   ]
  },
  {
   "cell_type": "code",
   "execution_count": 22,
   "id": "584a5080-179d-468e-b84d-0eed206e44c1",
   "metadata": {},
   "outputs": [
    {
     "data": {
      "text/plain": [
       "array([[[0., 0., 0., 0.],\n",
       "        [0., 0., 0., 0.],\n",
       "        [0., 0., 0., 0.]],\n",
       "\n",
       "       [[0., 0., 0., 0.],\n",
       "        [0., 0., 0., 0.],\n",
       "        [0., 0., 0., 0.]],\n",
       "\n",
       "       [[0., 0., 0., 0.],\n",
       "        [0., 0., 0., 0.],\n",
       "        [0., 0., 0., 0.]],\n",
       "\n",
       "       [[0., 0., 0., 0.],\n",
       "        [0., 0., 0., 0.],\n",
       "        [0., 0., 0., 0.]],\n",
       "\n",
       "       [[0., 0., 0., 0.],\n",
       "        [0., 0., 0., 0.],\n",
       "        [0., 0., 0., 0.]]])"
      ]
     },
     "execution_count": 22,
     "metadata": {},
     "output_type": "execute_result"
    }
   ],
   "source": [
    "zeroes = np.zeros((5,3,4))\n",
    "zeroes"
   ]
  },
  {
   "cell_type": "code",
   "execution_count": 23,
   "id": "2f3ac7ff-b266-44a6-b402-936e4a26376a",
   "metadata": {},
   "outputs": [
    {
     "data": {
      "text/plain": [
       "array([[[9, 9, 9],\n",
       "        [9, 9, 9]],\n",
       "\n",
       "       [[9, 9, 9],\n",
       "        [9, 9, 9]],\n",
       "\n",
       "       [[9, 9, 9],\n",
       "        [9, 9, 9]]])"
      ]
     },
     "execution_count": 23,
     "metadata": {},
     "output_type": "execute_result"
    }
   ],
   "source": [
    "full = np.full((3,2,3), 9)\n",
    "full"
   ]
  },
  {
   "cell_type": "code",
   "execution_count": 24,
   "id": "fa43cac4-16e3-49ac-acf1-cbc3825c2616",
   "metadata": {},
   "outputs": [
    {
     "data": {
      "text/plain": [
       "array([[[1, 2],\n",
       "        [3, 4]],\n",
       "\n",
       "       [[5, 6],\n",
       "        [7, 8]]])"
      ]
     },
     "execution_count": 24,
     "metadata": {},
     "output_type": "execute_result"
    }
   ],
   "source": [
    "arr3"
   ]
  },
  {
   "cell_type": "code",
   "execution_count": 25,
   "id": "424b6e88-09ae-4d6d-863d-72cb97df82c6",
   "metadata": {},
   "outputs": [
    {
     "data": {
      "text/plain": [
       "array([[5, 6],\n",
       "       [7, 8]])"
      ]
     },
     "execution_count": 25,
     "metadata": {},
     "output_type": "execute_result"
    }
   ],
   "source": [
    "arr3[1]"
   ]
  },
  {
   "cell_type": "code",
   "execution_count": 26,
   "id": "b7ac5374-be8b-4c82-acd6-75e04ab54b5b",
   "metadata": {},
   "outputs": [
    {
     "data": {
      "text/plain": [
       "array([5, 6])"
      ]
     },
     "execution_count": 26,
     "metadata": {},
     "output_type": "execute_result"
    }
   ],
   "source": [
    "arr3[1][0]"
   ]
  },
  {
   "cell_type": "code",
   "execution_count": 27,
   "id": "bfeacadf-65a1-46f9-a00a-7244895c17b5",
   "metadata": {},
   "outputs": [
    {
     "data": {
      "text/plain": [
       "np.int64(6)"
      ]
     },
     "execution_count": 27,
     "metadata": {},
     "output_type": "execute_result"
    }
   ],
   "source": [
    "arr3[1][0][1]"
   ]
  },
  {
   "cell_type": "code",
   "execution_count": 28,
   "id": "3323f8b8-0100-4410-a143-243edf0ba70f",
   "metadata": {},
   "outputs": [
    {
     "data": {
      "text/plain": [
       "np.int64(6)"
      ]
     },
     "execution_count": 28,
     "metadata": {},
     "output_type": "execute_result"
    }
   ],
   "source": [
    "arr3[1,0,1]"
   ]
  },
  {
   "cell_type": "markdown",
   "id": "542abb03-3432-49ee-acfd-574b04c099dc",
   "metadata": {},
   "source": [
    "# Update and Delete"
   ]
  },
  {
   "cell_type": "code",
   "execution_count": 35,
   "id": "84be40a0-6f11-46d8-af12-3df62c931072",
   "metadata": {},
   "outputs": [
    {
     "data": {
      "text/plain": [
       "array([[[0.83118453, 0.09283224],\n",
       "        [0.31919704, 0.95926211],\n",
       "        [0.50027882, 0.706583  ]],\n",
       "\n",
       "       [[0.48867598, 0.6141709 ],\n",
       "        [0.30979305, 0.12625459],\n",
       "        [0.15103933, 0.2640547 ]]])"
      ]
     },
     "execution_count": 35,
     "metadata": {},
     "output_type": "execute_result"
    }
   ],
   "source": [
    "a1 = np.random.rand(2, 3, 2)\n",
    "a2 = np.random.rand(2, 3, 2)\n",
    "a1"
   ]
  },
  {
   "cell_type": "code",
   "execution_count": 36,
   "id": "b2a3d967-c17c-49d5-90e4-6528e91a1c8c",
   "metadata": {},
   "outputs": [
    {
     "data": {
      "text/plain": [
       "array([[[0.88727184, 0.05659971],\n",
       "        [0.26142399, 0.42685404],\n",
       "        [0.95137061, 0.67994207]],\n",
       "\n",
       "       [[0.89106364, 0.16908024],\n",
       "        [0.81894187, 0.11663735],\n",
       "        [0.73411252, 0.50252755]]])"
      ]
     },
     "execution_count": 36,
     "metadata": {},
     "output_type": "execute_result"
    }
   ],
   "source": [
    "a2"
   ]
  },
  {
   "cell_type": "markdown",
   "id": "ddc3853d-17e3-4caa-b51e-830779e52db4",
   "metadata": {},
   "source": [
    "#### Basic mathematical operations"
   ]
  },
  {
   "cell_type": "code",
   "execution_count": 37,
   "id": "45c69cc0-185b-407b-b023-5595f6bf2cfc",
   "metadata": {},
   "outputs": [
    {
     "data": {
      "text/plain": [
       "array([[[1.71845637, 0.14943195],\n",
       "        [0.58062103, 1.38611615],\n",
       "        [1.45164944, 1.38652506]],\n",
       "\n",
       "       [[1.37973962, 0.78325114],\n",
       "        [1.12873492, 0.24289194],\n",
       "        [0.88515185, 0.76658226]]])"
      ]
     },
     "execution_count": 37,
     "metadata": {},
     "output_type": "execute_result"
    }
   ],
   "source": [
    " np.add(a1, a2)"
   ]
  },
  {
   "cell_type": "code",
   "execution_count": 39,
   "id": "a2d932b3-0ff4-44b1-98a1-160abf65e191",
   "metadata": {},
   "outputs": [
    {
     "data": {
      "text/plain": [
       "array([[[-0.05608731,  0.03623254],\n",
       "        [ 0.05777305,  0.53240807],\n",
       "        [-0.45109179,  0.02664093]],\n",
       "\n",
       "       [[-0.40238765,  0.44509066],\n",
       "        [-0.50914881,  0.00961724],\n",
       "        [-0.58307319, -0.23847285]]])"
      ]
     },
     "execution_count": 39,
     "metadata": {},
     "output_type": "execute_result"
    }
   ],
   "source": [
    "np.subtract(a1, a2)"
   ]
  },
  {
   "cell_type": "code",
   "execution_count": 40,
   "id": "3a651696-4186-45de-ae0d-952fe133ec6b",
   "metadata": {},
   "outputs": [
    {
     "data": {
      "text/plain": [
       "array([[[0.93678678, 1.64015416],\n",
       "        [1.22099366, 2.24728366],\n",
       "        [0.52585062, 1.03918117]],\n",
       "\n",
       "       [[0.54841873, 3.63242272],\n",
       "        [0.37828455, 1.08245425],\n",
       "        [0.20574412, 0.52545319]]])"
      ]
     },
     "execution_count": 40,
     "metadata": {},
     "output_type": "execute_result"
    }
   ],
   "source": [
    "np.divide(a1, a2)"
   ]
  },
  {
   "cell_type": "code",
   "execution_count": 41,
   "id": "fbad4a7f-bd6a-40cc-aaf1-3a9de857501c",
   "metadata": {},
   "outputs": [
    {
     "data": {
      "text/plain": [
       "array([[[0.73748663, 0.00525428],\n",
       "        [0.08344576, 0.40946491],\n",
       "        [0.47595057, 0.4804355 ]],\n",
       "\n",
       "       [[0.4354414 , 0.10384416],\n",
       "        [0.2537025 , 0.014726  ],\n",
       "        [0.11087986, 0.13269476]]])"
      ]
     },
     "execution_count": 41,
     "metadata": {},
     "output_type": "execute_result"
    }
   ],
   "source": [
    "np.multiply(a1, a2)"
   ]
  },
  {
   "cell_type": "markdown",
   "id": "170153ba-304c-4390-aa1f-e53b4246e2f8",
   "metadata": {},
   "source": [
    "#### statistical operations"
   ]
  },
  {
   "cell_type": "code",
   "execution_count": 43,
   "id": "7600f2a1-580b-4ff1-863d-2e0908f4baec",
   "metadata": {},
   "outputs": [
    {
     "data": {
      "text/plain": [
       "np.float64(5.0)"
      ]
     },
     "execution_count": 43,
     "metadata": {},
     "output_type": "execute_result"
    }
   ],
   "source": [
    "sqrt = np.sqrt(25)\n",
    "sqrt"
   ]
  },
  {
   "cell_type": "code",
   "execution_count": 44,
   "id": "691be22d-fd49-4052-a5e2-42d6450b27d8",
   "metadata": {},
   "outputs": [
    {
     "data": {
      "text/plain": [
       "np.int64(256)"
      ]
     },
     "execution_count": 44,
     "metadata": {},
     "output_type": "execute_result"
    }
   ],
   "source": [
    "power = np.power(2,8)\n",
    "power"
   ]
  },
  {
   "cell_type": "code",
   "execution_count": 45,
   "id": "6803b48a-d109-408b-a641-31e13ee9d650",
   "metadata": {},
   "outputs": [
    {
     "data": {
      "text/plain": [
       "np.float64(3.2188758248682006)"
      ]
     },
     "execution_count": 45,
     "metadata": {},
     "output_type": "execute_result"
    }
   ],
   "source": [
    "log = np.log(25)\n",
    "log"
   ]
  },
  {
   "cell_type": "code",
   "execution_count": 47,
   "id": "027131a8-80c2-4acb-9aa6-1d8761021401",
   "metadata": {},
   "outputs": [
    {
     "data": {
      "text/plain": [
       "np.float64(0.09283224334776785)"
      ]
     },
     "execution_count": 47,
     "metadata": {},
     "output_type": "execute_result"
    }
   ],
   "source": [
    "mins = np.min(a1)\n",
    "mins"
   ]
  },
  {
   "cell_type": "code",
   "execution_count": 48,
   "id": "8002901c-7bd4-4e27-8136-7f5712a57331",
   "metadata": {},
   "outputs": [
    {
     "data": {
      "text/plain": [
       "np.float64(0.9513706115949387)"
      ]
     },
     "execution_count": 48,
     "metadata": {},
     "output_type": "execute_result"
    }
   ],
   "source": [
    "maxs = np.max(a2)\n",
    "maxs"
   ]
  },
  {
   "cell_type": "code",
   "execution_count": 49,
   "id": "5d69c02b-ff1a-4902-9261-18f240a94529",
   "metadata": {},
   "outputs": [
    {
     "data": {
      "text/plain": [
       "2.718281828459045"
      ]
     },
     "execution_count": 49,
     "metadata": {},
     "output_type": "execute_result"
    }
   ],
   "source": [
    "e = np.e\n",
    "e "
   ]
  },
  {
   "cell_type": "code",
   "execution_count": 56,
   "id": "ee9802af-7459-48e9-8eaa-0a23e015e98c",
   "metadata": {},
   "outputs": [
    {
     "data": {
      "text/plain": [
       "np.float64(24.99999937829499)"
      ]
     },
     "execution_count": 56,
     "metadata": {},
     "output_type": "execute_result"
    }
   ],
   "source": [
    "val = np.power(np.e, 3.2188758)\n",
    "val"
   ]
  },
  {
   "cell_type": "markdown",
   "id": "ac969db4-fbed-4bb3-95d6-0cebb7d904a6",
   "metadata": {},
   "source": [
    "#### Update"
   ]
  },
  {
   "cell_type": "code",
   "execution_count": 57,
   "id": "dd660506-d3e0-4193-b695-197e570647c5",
   "metadata": {},
   "outputs": [
    {
     "data": {
      "text/plain": [
       "array([[[1, 2],\n",
       "        [3, 4]],\n",
       "\n",
       "       [[5, 6],\n",
       "        [7, 8]]])"
      ]
     },
     "execution_count": 57,
     "metadata": {},
     "output_type": "execute_result"
    }
   ],
   "source": [
    "arr3"
   ]
  },
  {
   "cell_type": "code",
   "execution_count": 58,
   "id": "d521d04f-116d-4cd1-a765-5dd2209f5aa7",
   "metadata": {},
   "outputs": [
    {
     "data": {
      "text/plain": [
       "array([[[  1,   2],\n",
       "        [  3,   4]],\n",
       "\n",
       "       [[  5, 100],\n",
       "        [  7,   8]]])"
      ]
     },
     "execution_count": 58,
     "metadata": {},
     "output_type": "execute_result"
    }
   ],
   "source": [
    "arr3[1,0, 1] = 100\n",
    "arr3"
   ]
  },
  {
   "cell_type": "code",
   "execution_count": 61,
   "id": "84852137-27d5-4421-ace7-06501007a7c3",
   "metadata": {},
   "outputs": [
    {
     "data": {
      "text/plain": [
       "array([[[  1,   2],\n",
       "        [  3,   4]],\n",
       "\n",
       "       [[  5, 100],\n",
       "        [  7,   8]]])"
      ]
     },
     "execution_count": 61,
     "metadata": {},
     "output_type": "execute_result"
    }
   ],
   "source": [
    "arr3.sort()\n",
    "arr3"
   ]
  },
  {
   "cell_type": "code",
   "execution_count": 62,
   "id": "60cd2399-6b67-4cb4-ad68-582faf61a837",
   "metadata": {},
   "outputs": [
    {
     "data": {
      "text/plain": [
       "(2, 2, 2)"
      ]
     },
     "execution_count": 62,
     "metadata": {},
     "output_type": "execute_result"
    }
   ],
   "source": [
    "# Reshape\n",
    "arr3.shape"
   ]
  },
  {
   "cell_type": "code",
   "execution_count": 63,
   "id": "4bcd32b8-747f-4bac-99f2-42805fd99fc7",
   "metadata": {},
   "outputs": [],
   "source": [
    " arr3_reshape = arr3.reshape((1, 4, 2))"
   ]
  },
  {
   "cell_type": "code",
   "execution_count": 64,
   "id": "30102795-bbc0-4682-a149-7274207d31a0",
   "metadata": {},
   "outputs": [
    {
     "data": {
      "text/plain": [
       "array([[[  1,   2],\n",
       "        [  3,   4],\n",
       "        [  5, 100],\n",
       "        [  7,   8]]])"
      ]
     },
     "execution_count": 64,
     "metadata": {},
     "output_type": "execute_result"
    }
   ],
   "source": [
    "arr3_reshape"
   ]
  },
  {
   "cell_type": "code",
   "execution_count": 65,
   "id": "dc7c33e4-0514-4986-969c-22ab5726c789",
   "metadata": {},
   "outputs": [
    {
     "data": {
      "text/plain": [
       "array([[[  1,   2]],\n",
       "\n",
       "       [[  3,   4]],\n",
       "\n",
       "       [[  5, 100]],\n",
       "\n",
       "       [[  7,   8]]])"
      ]
     },
     "execution_count": 65,
     "metadata": {},
     "output_type": "execute_result"
    }
   ],
   "source": [
    " arr3_reshape2 = arr3.reshape((4, 1, 2))\n",
    " arr3_reshape2"
   ]
  },
  {
   "cell_type": "markdown",
   "id": "6f03c0f5-23ad-4e44-95cb-bc182a5cb72e",
   "metadata": {},
   "source": [
    "#### Appending and inserting"
   ]
  },
  {
   "cell_type": "code",
   "execution_count": 66,
   "id": "f7de1bd2-b0dd-41a0-9bb9-5832c49798fe",
   "metadata": {},
   "outputs": [
    {
     "data": {
      "text/plain": [
       "array([[[0., 0., 0., 0.],\n",
       "        [0., 0., 0., 0.],\n",
       "        [0., 0., 0., 0.]],\n",
       "\n",
       "       [[0., 0., 0., 0.],\n",
       "        [0., 0., 0., 0.],\n",
       "        [0., 0., 0., 0.]],\n",
       "\n",
       "       [[0., 0., 0., 0.],\n",
       "        [0., 0., 0., 0.],\n",
       "        [0., 0., 0., 0.]],\n",
       "\n",
       "       [[0., 0., 0., 0.],\n",
       "        [0., 0., 0., 0.],\n",
       "        [0., 0., 0., 0.]],\n",
       "\n",
       "       [[0., 0., 0., 0.],\n",
       "        [0., 0., 0., 0.],\n",
       "        [0., 0., 0., 0.]]])"
      ]
     },
     "execution_count": 66,
     "metadata": {},
     "output_type": "execute_result"
    }
   ],
   "source": [
    "zeroes"
   ]
  },
  {
   "cell_type": "code",
   "execution_count": 67,
   "id": "4b9f3dee-8eb8-470e-8c99-bdf045cfc39f",
   "metadata": {},
   "outputs": [
    {
     "data": {
      "text/plain": [
       "3"
      ]
     },
     "execution_count": 67,
     "metadata": {},
     "output_type": "execute_result"
    }
   ],
   "source": [
    "zeroes.ndim"
   ]
  },
  {
   "cell_type": "code",
   "execution_count": 68,
   "id": "d670358a-061b-4925-975d-a2081791363c",
   "metadata": {},
   "outputs": [
    {
     "data": {
      "text/plain": [
       "(5, 3, 4)"
      ]
     },
     "execution_count": 68,
     "metadata": {},
     "output_type": "execute_result"
    }
   ],
   "source": [
    "zeroes.shape\n"
   ]
  },
  {
   "cell_type": "code",
   "execution_count": 69,
   "id": "254a13ad-54df-422a-b5fe-92c7c1f48496",
   "metadata": {},
   "outputs": [
    {
     "data": {
      "text/plain": [
       "array([[[1., 1., 1., 1.],\n",
       "        [1., 1., 1., 1.],\n",
       "        [1., 1., 1., 1.]],\n",
       "\n",
       "       [[1., 1., 1., 1.],\n",
       "        [1., 1., 1., 1.],\n",
       "        [1., 1., 1., 1.]],\n",
       "\n",
       "       [[1., 1., 1., 1.],\n",
       "        [1., 1., 1., 1.],\n",
       "        [1., 1., 1., 1.]],\n",
       "\n",
       "       [[1., 1., 1., 1.],\n",
       "        [1., 1., 1., 1.],\n",
       "        [1., 1., 1., 1.]],\n",
       "\n",
       "       [[1., 1., 1., 1.],\n",
       "        [1., 1., 1., 1.],\n",
       "        [1., 1., 1., 1.]]])"
      ]
     },
     "execution_count": 69,
     "metadata": {},
     "output_type": "execute_result"
    }
   ],
   "source": [
    "new_array = np.ones(zeroes.shape)\n",
    "new_array"
   ]
  },
  {
   "cell_type": "code",
   "execution_count": 72,
   "id": "5d47a986-bf63-464d-a140-4872977c2b9c",
   "metadata": {},
   "outputs": [
    {
     "data": {
      "text/plain": [
       "array([[[0., 0., 0., 0.],\n",
       "        [0., 0., 0., 0.],\n",
       "        [0., 0., 0., 0.]],\n",
       "\n",
       "       [[0., 0., 0., 0.],\n",
       "        [0., 0., 0., 0.],\n",
       "        [0., 0., 0., 0.]],\n",
       "\n",
       "       [[0., 0., 0., 0.],\n",
       "        [0., 0., 0., 0.],\n",
       "        [0., 0., 0., 0.]],\n",
       "\n",
       "       [[0., 0., 0., 0.],\n",
       "        [0., 0., 0., 0.],\n",
       "        [0., 0., 0., 0.]],\n",
       "\n",
       "       [[0., 0., 0., 0.],\n",
       "        [0., 0., 0., 0.],\n",
       "        [0., 0., 0., 0.]],\n",
       "\n",
       "       [[1., 1., 1., 1.],\n",
       "        [1., 1., 1., 1.],\n",
       "        [1., 1., 1., 1.]],\n",
       "\n",
       "       [[1., 1., 1., 1.],\n",
       "        [1., 1., 1., 1.],\n",
       "        [1., 1., 1., 1.]],\n",
       "\n",
       "       [[1., 1., 1., 1.],\n",
       "        [1., 1., 1., 1.],\n",
       "        [1., 1., 1., 1.]],\n",
       "\n",
       "       [[1., 1., 1., 1.],\n",
       "        [1., 1., 1., 1.],\n",
       "        [1., 1., 1., 1.]],\n",
       "\n",
       "       [[1., 1., 1., 1.],\n",
       "        [1., 1., 1., 1.],\n",
       "        [1., 1., 1., 1.]]])"
      ]
     },
     "execution_count": 72,
     "metadata": {},
     "output_type": "execute_result"
    }
   ],
   "source": [
    "appd = np.append(zeroes, new_array, axis=0) # axis 0 is row, axis 1 is column\n",
    "appd"
   ]
  },
  {
   "cell_type": "markdown",
   "id": "5ee78b42-4fe1-4efd-a60c-185c3375780a",
   "metadata": {},
   "source": [
    "# Insert"
   ]
  },
  {
   "cell_type": "code",
   "execution_count": 76,
   "id": "27fb7682-77a5-4ef7-93aa-1be283f92a73",
   "metadata": {},
   "outputs": [
    {
     "data": {
      "text/plain": [
       "array([[[0., 0., 0., 0.],\n",
       "        [0., 0., 0., 0.],\n",
       "        [0., 0., 0., 0.]],\n",
       "\n",
       "       [[0., 0., 0., 0.],\n",
       "        [0., 0., 0., 0.],\n",
       "        [0., 0., 0., 0.]],\n",
       "\n",
       "       [[1., 1., 1., 1.],\n",
       "        [1., 1., 1., 1.],\n",
       "        [1., 1., 1., 1.]],\n",
       "\n",
       "       [[1., 1., 1., 1.],\n",
       "        [1., 1., 1., 1.],\n",
       "        [1., 1., 1., 1.]],\n",
       "\n",
       "       [[1., 1., 1., 1.],\n",
       "        [1., 1., 1., 1.],\n",
       "        [1., 1., 1., 1.]],\n",
       "\n",
       "       [[1., 1., 1., 1.],\n",
       "        [1., 1., 1., 1.],\n",
       "        [1., 1., 1., 1.]],\n",
       "\n",
       "       [[1., 1., 1., 1.],\n",
       "        [1., 1., 1., 1.],\n",
       "        [1., 1., 1., 1.]],\n",
       "\n",
       "       [[0., 0., 0., 0.],\n",
       "        [0., 0., 0., 0.],\n",
       "        [0., 0., 0., 0.]],\n",
       "\n",
       "       [[0., 0., 0., 0.],\n",
       "        [0., 0., 0., 0.],\n",
       "        [0., 0., 0., 0.]],\n",
       "\n",
       "       [[0., 0., 0., 0.],\n",
       "        [0., 0., 0., 0.],\n",
       "        [0., 0., 0., 0.]]])"
      ]
     },
     "execution_count": 76,
     "metadata": {},
     "output_type": "execute_result"
    }
   ],
   "source": [
    "inserted_array = np.insert(zeroes, 2, new_array, axis=0)\n",
    "inserted_array"
   ]
  },
  {
   "cell_type": "markdown",
   "id": "156263c7-997b-4c75-a306-4e4e12c55698",
   "metadata": {},
   "source": [
    "#### Delete"
   ]
  },
  {
   "cell_type": "code",
   "execution_count": 78,
   "id": "bd2db623-9cdf-4521-99f3-b076bda937aa",
   "metadata": {},
   "outputs": [
    {
     "data": {
      "text/plain": [
       "array([[[0.218991  , 0.52620354, 0.65536666],\n",
       "        [0.3711867 , 0.75943874, 0.90728055],\n",
       "        [0.17553541, 0.03964086, 0.27543554],\n",
       "        [0.29685328, 0.5167676 , 0.31101019]],\n",
       "\n",
       "       [[0.44617034, 0.06779987, 0.88244598],\n",
       "        [0.86011393, 0.05218751, 0.29624361],\n",
       "        [0.47524479, 0.5602628 , 0.39298318],\n",
       "        [0.54567111, 0.17848295, 0.91662177]],\n",
       "\n",
       "       [[0.32693308, 0.51417182, 0.817154  ],\n",
       "        [0.65090806, 0.25431257, 0.49971637],\n",
       "        [0.01135437, 0.57977945, 0.33702463],\n",
       "        [0.96805603, 0.03211455, 0.50877815]]])"
      ]
     },
     "execution_count": 78,
     "metadata": {},
     "output_type": "execute_result"
    }
   ],
   "source": [
    "arr4 = np.random.rand(3, 4, 3)\n",
    "arr4"
   ]
  },
  {
   "cell_type": "code",
   "execution_count": 80,
   "id": "c4ef5a24-d356-4961-b2ca-593ad7fa9aaf",
   "metadata": {},
   "outputs": [
    {
     "data": {
      "text/plain": [
       "array([[[0.3711867 , 0.75943874, 0.90728055],\n",
       "        [0.17553541, 0.03964086, 0.27543554],\n",
       "        [0.29685328, 0.5167676 , 0.31101019]],\n",
       "\n",
       "       [[0.86011393, 0.05218751, 0.29624361],\n",
       "        [0.47524479, 0.5602628 , 0.39298318],\n",
       "        [0.54567111, 0.17848295, 0.91662177]],\n",
       "\n",
       "       [[0.65090806, 0.25431257, 0.49971637],\n",
       "        [0.01135437, 0.57977945, 0.33702463],\n",
       "        [0.96805603, 0.03211455, 0.50877815]]])"
      ]
     },
     "execution_count": 80,
     "metadata": {},
     "output_type": "execute_result"
    }
   ],
   "source": [
    "# delete index\n",
    "arr5 = np.delete(arr4, 0, axis=1)\n",
    "arr5"
   ]
  },
  {
   "cell_type": "code",
   "execution_count": 82,
   "id": "82d5ddbe-d61c-4654-82d1-bbcf76db5822",
   "metadata": {},
   "outputs": [],
   "source": [
    "np.save(\"new_array\", arr5)"
   ]
  },
  {
   "cell_type": "code",
   "execution_count": 83,
   "id": "cc052271-d939-46ec-8017-f54e79ac5afe",
   "metadata": {},
   "outputs": [
    {
     "data": {
      "text/plain": [
       "array([[[0.3711867 , 0.75943874, 0.90728055],\n",
       "        [0.17553541, 0.03964086, 0.27543554],\n",
       "        [0.29685328, 0.5167676 , 0.31101019]],\n",
       "\n",
       "       [[0.86011393, 0.05218751, 0.29624361],\n",
       "        [0.47524479, 0.5602628 , 0.39298318],\n",
       "        [0.54567111, 0.17848295, 0.91662177]],\n",
       "\n",
       "       [[0.65090806, 0.25431257, 0.49971637],\n",
       "        [0.01135437, 0.57977945, 0.33702463],\n",
       "        [0.96805603, 0.03211455, 0.50877815]]])"
      ]
     },
     "execution_count": 83,
     "metadata": {},
     "output_type": "execute_result"
    }
   ],
   "source": [
    "np.load(\"new_array.npy\")"
   ]
  },
  {
   "cell_type": "code",
   "execution_count": null,
   "id": "50d80eab-e26e-4f54-92ea-4de6669ce9f9",
   "metadata": {},
   "outputs": [],
   "source": []
  }
 ],
 "metadata": {
  "kernelspec": {
   "display_name": "Python 3 (ipykernel)",
   "language": "python",
   "name": "python3"
  },
  "language_info": {
   "codemirror_mode": {
    "name": "ipython",
    "version": 3
   },
   "file_extension": ".py",
   "mimetype": "text/x-python",
   "name": "python",
   "nbconvert_exporter": "python",
   "pygments_lexer": "ipython3",
   "version": "3.13.5"
  }
 },
 "nbformat": 4,
 "nbformat_minor": 5
}
